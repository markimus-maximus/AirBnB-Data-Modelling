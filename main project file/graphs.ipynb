{
 "cells": [
  {
   "cell_type": "code",
   "execution_count": null,
   "metadata": {},
   "outputs": [],
   "source": [
    "import matplotlib.pyplot as plt\n",
    "\n",
    "metrics_dict = {\"train_pred_rmse\": 81.81215497216573, \"train_r2_pred\": 0.4934958690566311, \"train_mae_pred\": 53.275394269386965, \"validation_rmse_pred\": 114.51384612031806, \"validation_r2_pred\": 0.36219359850098587, \"validation_mae_pred\": 69.8139036163977, \"test_rmse_pred\": 105.37466378500473, \"test_r2_pred\": 0.286463190239887, \"test_mae_pred\": 68.42883194534171}\n",
    "del metrics_dict['train_r2_pred', 'validation_r2_pred', 'test_r2_pred']\n",
    "metrics_names = list(metrics_dict.keys())\n",
    "metrics_values = list(metrics_dict.values())\n",
    "\n",
    "plt.bar(metrics_names, metrics_values)\n",
    "plt.title('title name')\n",
    "plt.xlabel('x_axis name')\n",
    "plt.ylabel('y_axis name')\n",
    "plt.show()\n",
    "\n",
    "\n",
    "\n"
   ]
  }
 ],
 "metadata": {
  "kernelspec": {
   "display_name": "Python 3.10.5 ('AirBnB_project_venv.venv': venv)",
   "language": "python",
   "name": "python3"
  },
  "language_info": {
   "name": "python",
   "version": "3.10.5"
  },
  "orig_nbformat": 4,
  "vscode": {
   "interpreter": {
    "hash": "6fec050d162bfcf53e937f0d03c6559ee3915b83b21ac7dd3bdff2d4ce00da70"
   }
  }
 },
 "nbformat": 4,
 "nbformat_minor": 2
}
