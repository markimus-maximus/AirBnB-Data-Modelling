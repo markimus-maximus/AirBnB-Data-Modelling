{
 "cells": [
  {
   "cell_type": "code",
   "execution_count": 1,
   "metadata": {},
   "outputs": [],
   "source": [
    "#let's try to get a loss function from scratch\n",
    "import math\n",
    "import numpy as np\n",
    "from statistics import mean\n"
   ]
  },
  {
   "cell_type": "code",
   "execution_count": 2,
   "metadata": {},
   "outputs": [
    {
     "name": "stdout",
     "output_type": "stream",
     "text": [
      "len_ex = 6\n",
      "0\n",
      "1\n",
      "2\n",
      "3\n",
      "4\n",
      "5\n",
      "[1, 1, 1, 1, 1, 1]\n",
      "1\n",
      "1\n",
      "1\n",
      "1\n",
      "1\n",
      "1\n",
      "squared residuals : [1, 1, 1, 1, 1, 1]\n",
      "mean residuals : 1\n",
      "1.0\n"
     ]
    }
   ],
   "source": [
    "y_true = [1, 2, 3 , 4, 5, 6]\n",
    "y_pred = [2, 3, 4 ,5, 6, 7]\n",
    "\n",
    "def RMSE_calc(y_true, y_pred):\n",
    "\n",
    "    number_training_ex = len(y_true)\n",
    "    print(f'len_ex = {number_training_ex}')\n",
    "\n",
    "    residuals_list = []\n",
    "    for index in range(len(y_true)):\n",
    "        #print(index)\n",
    "        residual = y_pred[index] - y_true[index]\n",
    "        residuals_list.append(residual)\n",
    "    #print(residuals_list)\n",
    "\n",
    "\n",
    "    squared_residuals = []\n",
    "    for residual in residuals_list:\n",
    "        sq_residual = residual **2\n",
    "        #print(sq_residual)\n",
    "        squared_residuals.append(sq_residual)\n",
    "    #print(f'squared residuals : {squared_residuals}')\n",
    "    average_residuals = mean(squared_residuals)\n",
    "    #print(f'mean residuals : {average_residuals}')\n",
    "    RMSError = math.sqrt(average_residuals)\n",
    "    return RMSError"
   ]
  },
  {
   "cell_type": "code",
   "execution_count": 3,
   "metadata": {},
   "outputs": [],
   "source": [
    "#doing gradient descent from scratch"
   ]
  },
  {
   "cell_type": "code",
   "execution_count": 28,
   "metadata": {},
   "outputs": [],
   "source": [
    "#create some random data\n",
    "\n",
    "X = 2 * np.random.rand(100,1)\n",
    "y =  2 * X + np.random.rand(100,1)\n",
    "\n"
   ]
  },
  {
   "cell_type": "code",
   "execution_count": 29,
   "metadata": {},
   "outputs": [
    {
     "data": {
      "image/png": "[encoded data removed]",
      "text/plain": [
       "<Figure size 640x480 with 1 Axes>"
      ]
     },
     "metadata": {},
     "output_type": "display_data"
    }
   ],
   "source": [
    "import matplotlib.pyplot as plt\n",
    "\n",
    "plt.scatter(X, y)\n",
    "plt.show()"
   ]
  },
  {
   "cell_type": "markdown",
   "metadata": {},
   "source": []
  },
  {
   "cell_type": "code",
   "execution_count": null,
   "metadata": {},
   "outputs": [],
   "source": []
  }
 ],
 "metadata": {
  "kernelspec": {
   "display_name": "Python 3.10.5 ('AirBnB_project_venv.venv': venv)",
   "language": "python",
   "name": "python3"
  },
  "language_info": {
   "codemirror_mode": {
    "name": "ipython",
    "version": 3
   },
   "file_extension": ".py",
   "mimetype": "text/x-python",
   "name": "python",
   "nbconvert_exporter": "python",
   "pygments_lexer": "ipython3",
   "version": "3.10.5"
  },
  "orig_nbformat": 4,
  "vscode": {
   "interpreter": {
    "hash": "6fec050d162bfcf53e937f0d03c6559ee3915b83b21ac7dd3bdff2d4ce00da70"
   }
  }
 },
 "nbformat": 4,
 "nbformat_minor": 2
}
