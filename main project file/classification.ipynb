{
 "cells": [
  {
   "cell_type": "code",
   "execution_count": 1,
   "metadata": {},
   "outputs": [],
   "source": [
    "from matplotlib import pyplot as plt\n",
    "from numpy.polynomial.polynomial import polyfit\n",
    "from sklearn.linear_model import LogisticRegression, SGDClassifier\n",
    "from sklearn.tree import DecisionTreeRegressor\n",
    "from sklearn.ensemble import RandomForestRegressor\n",
    "from sklearn.model_selection import train_test_split, KFold, GridSearchCV, learning_curve\n",
    "from sklearn.metrics import mean_squared_error, r2_score\n",
    "from sklearn.preprocessing import StandardScaler\n",
    "\n",
    "import numpy as np\n"
   ]
  },
  {
   "cell_type": "code",
   "execution_count": 2,
   "metadata": {},
   "outputs": [],
   "source": [
    "from pathlib import Path\n",
    "import pandas as pd\n",
    "pd.options.mode.chained_assignment = None\n",
    "import tabular_data as td\n",
    "\n",
    "df = pd.read_csv(Path('AirbnbDataSci/tabular_data/clean_tabular_data.csv'))\n",
    "\n",
    "\n",
    "features, labels = td.load_airbnb(df, \"Category\")\n",
    "#print(features)\n",
    "#print(labels)"
   ]
  },
  {
   "cell_type": "code",
   "execution_count": 3,
   "metadata": {},
   "outputs": [
    {
     "name": "stdout",
     "output_type": "stream",
     "text": [
      "[[-0.8058115  -0.7732395  -0.45534403 ... -2.68255683 -1.58317217\n",
      "  -0.61251226]\n",
      " [-0.38490304  0.31361704 -1.66862026 ... -1.53869751 -1.93496937\n",
      "  -0.61251226]\n",
      " [ 0.03600542 -0.22981123  0.15129408 ... -0.39483819  1.09048655\n",
      "  -0.61251226]\n",
      " ...\n",
      " [ 0.03600542 -0.22981123  0.15129408 ...  0.17709147  0.17581383\n",
      "   0.33068844]\n",
      " [ 0.87782234  0.31361704  0.7579322  ... -0.39483819 -0.80921833\n",
      "   0.33068844]\n",
      " [ 0.03600542 -0.22981123 -0.45534403 ... -2.68255683 -0.45742113\n",
      "   0.33068844]]\n"
     ]
    }
   ],
   "source": [
    "scaler = StandardScaler()\n",
    "features = scaler.fit_transform(features)\n",
    "print(features)"
   ]
  },
  {
   "cell_type": "code",
   "execution_count": 4,
   "metadata": {},
   "outputs": [],
   "source": [
    "from sklearn.model_selection import train_test_split\n",
    "#define the features as generated from load_airbnb as X\n",
    "X = features\n",
    "#define the labels as generated from load_airbnb as y\n",
    "y = labels\n",
    "#split the data into test and train data; the 0.3 describes the data which is apportioned to the test set \n",
    "X_train, X_test, y_train, y_test = train_test_split(X, y, test_size=0.30, random_state = 42)\n",
    "#print(y_train)\n",
    "#resplit the test data again to get a final 15 % for both test and validation\n",
    "X_test, X_validation, y_test, y_validation = train_test_split(X_test, y_test, test_size=0.5, random_state=42)\n",
    "#import the linear regression model as model\n",
    "\n",
    "model = LogisticRegression()\n",
    "#fit the model using the training data (holding back the test and validation)\n",
    "model.fit(X_train,y_train)\n",
    "y_train_pred = model.predict(X_train)\n",
    "y_validation_pred = model.predict(X_validation)\n",
    "y_test_pred = model.predict(X_test)"
   ]
  },
  {
   "cell_type": "code",
   "execution_count": null,
   "metadata": {},
   "outputs": [],
   "source": []
  },
  {
   "cell_type": "code",
   "execution_count": null,
   "metadata": {},
   "outputs": [],
   "source": [
    "model = model(max_iter=1000).fit(data_subsets[0], data_subsets[1])\n",
    "#predict the labels based on the training subset features\n",
    "y_train_pred = model.predict(data_subsets[0])\n",
    "cfm_train = create_confusion_matrix(data_subsets[1], y_train_pred)\n",
    "print(cfm_train)\n",
    "#predict the labels based on the val subset featrues\n",
    "y_val_pred = model.predict(data_subsets[2])\n",
    "cfm_val = create_confusion_matrix(data_subsets[3], y_val_pred)\n",
    "print(cfm_val)\n",
    "#predict the labels based on the test subset features\n",
    "y_test_pred = model.predict(data_subsets[4])\n",
    "cfm_test = create_confusion_matrix(data_subsets[5], y_test_pred)\n",
    "print(cfm_test)\n",
    "#get the model parameters\n",
    "params = model.get_params()"
   ]
  },
  {
   "cell_type": "code",
   "execution_count": null,
   "metadata": {},
   "outputs": [],
   "source": []
  },
  {
   "cell_type": "code",
   "execution_count": null,
   "metadata": {},
   "outputs": [],
   "source": []
  }
 ],
 "metadata": {
  "kernelspec": {
   "display_name": "Python 3.10.5 ('AirBnB_project_venv.venv': venv)",
   "language": "python",
   "name": "python3"
  },
  "language_info": {
   "codemirror_mode": {
    "name": "ipython",
    "version": 3
   },
   "file_extension": ".py",
   "mimetype": "text/x-python",
   "name": "python",
   "nbconvert_exporter": "python",
   "pygments_lexer": "ipython3",
   "version": "3.10.5 (tags/v3.10.5:f377153, Jun  6 2022, 16:14:13) [MSC v.1929 64 bit (AMD64)]"
  },
  "orig_nbformat": 4,
  "vscode": {
   "interpreter": {
    "hash": "6fec050d162bfcf53e937f0d03c6559ee3915b83b21ac7dd3bdff2d4ce00da70"
   }
  }
 },
 "nbformat": 4,
 "nbformat_minor": 2
}
